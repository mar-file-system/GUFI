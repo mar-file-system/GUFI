{
 "cells": [
  {
   "cell_type": "code",
   "execution_count": 1,
   "id": "c6832f5b",
   "metadata": {},
   "outputs": [],
   "source": [
    "import math\n",
    "import matplotlib.pyplot as plt\n",
    "import os\n",
    "import subprocess\n",
    "import sys\n",
    "import pandas as pd\n",
    "\n",
    "from matplotlib.ticker import FuncFormatter"
   ]
  },
  {
   "cell_type": "code",
   "execution_count": 2,
   "id": "beb17d1c",
   "metadata": {},
   "outputs": [
    {
     "name": "stdout",
     "output_type": "stream",
     "text": [
      "Using 224 threads on /mnt/nvme1n1/jbent/anony\n"
     ]
    }
   ],
   "source": [
    "# pull in our gquery module and import the config\n",
    "sys.path.append('../../scripts')\n",
    "os.environ['GUFI_CONFIG']='/home/jbent/GUFI/configs/anony'\n",
    "#os.environ['GUFI_DEBUG']='TRUE'\n",
    "import gquery as gq\n",
    "\n",
    "config=gq.query_gconfig()\n",
    "nthreads=config.config['Threads']\n",
    "indexroot=config.config['IndexRoot']\n",
    "print(f\"Using {nthreads} threads on {indexroot}\")"
   ]
  },
  {
   "cell_type": "code",
   "execution_count": 3,
   "id": "dcce5af9",
   "metadata": {},
   "outputs": [],
   "source": [
    "# function to find the largest file in an index\n",
    "def largest_file_size(indexroot,nthreads=nthreads):\n",
    "    select='size'\n",
    "    tables='vrpentries'\n",
    "    where=None\n",
    "    (command,cstr)=gq.get_gufi_command(select=select,tables=tables,where=where,nthreads=nthreads,indexroot=indexroot)\n",
    "    largest_file = gq.execute_command(command=command,command_string=cstr,aggregate_function='max')\n",
    "    return largest_file\n",
    "\n",
    "# function to count the number of files within a where clause within an index\n",
    "def get_file_count(where,indexroot,nthreads=nthreads):\n",
    "    select='count(*)'\n",
    "    tables='vrpentries'\n",
    "    (command,cstr)=gq.get_gufi_command(select=select,tables=tables,where=where,nthreads=nthreads,indexroot=indexroot)\n",
    "    count = gq.execute_command(command=command,command_string=cstr,aggregate_function='sum',Verbose=False)\n",
    "    return count\n",
    "\n",
    "# can use this interactively for debugging\n",
    "#largest_file = largest_file_size(config.config['IndexRoot'])\n",
    "#largest_file"
   ]
  },
  {
   "cell_type": "code",
   "execution_count": 17,
   "id": "0a3ff27f",
   "metadata": {},
   "outputs": [],
   "source": [
    "def get_filesize_distro_as_dataframe(indexroot,Verbose=False):\n",
    "    data = { 'Upper_Bound' : [], 'Num_Files' : []}\n",
    "    largest_file = largest_file_size(indexroot)\n",
    "    if Verbose:\n",
    "        print(f\"Largest file in {indexroot} is {largest_file}\")\n",
    "    # now let's build a histogram of all the file counts up to the largest file using powers of 2\n",
    "    max_pow = math.ceil(math.log2(largest_file))\n",
    "    for i in range(max_pow):\n",
    "        lower = (2**(i-1) if (2**(i-1)>=1) else -1)\n",
    "        upper = 2**i\n",
    "        where=\"size > %d and size <= %d\" % (lower,upper)\n",
    "        c = get_file_count(where,indexroot)\n",
    "        data['Upper_Bound'].append(upper)\n",
    "        data['Num_Files'].append(c)\n",
    "        if Verbose:\n",
    "            print(\"Bucket %d:%d has %d files (Bucket %d / %d)\" % (lower,upper, c, i, max_pow))\n",
    "    return (pd.DataFrame(data), largest_file)"
   ]
  },
  {
   "cell_type": "code",
   "execution_count": 32,
   "id": "1adc1e21",
   "metadata": {},
   "outputs": [],
   "source": [
    "def add_dataframe(dataframes, indexroot, Verbose=True):\n",
    "    if indexroot in dataframes:\n",
    "        print(f\"Cowardly refusing to overwrite an existing entry for {indexroot}\")\n",
    "    else:\n",
    "        (df,lf) = get_filesize_distro_as_dataframe(indexroot=indexroot,Verbose=Verbose)\n",
    "        dataframes[indexroot] = {'DataFrame' : df, 'LargestFile' : lf}"
   ]
  },
  {
   "cell_type": "code",
   "execution_count": 30,
   "id": "92a5f12a",
   "metadata": {},
   "outputs": [],
   "source": [
    "#(df,largest_file) = get_filesize_distro_as_dataframe(indexroot=config.config['IndexRoot'],Verbose=True)\n",
    "# build a dataframes structure to hold the data\n",
    "# dataframes = {} # comment this out because we already built-it"
   ]
  },
  {
   "cell_type": "code",
   "execution_count": 42,
   "id": "e922c2fc",
   "metadata": {},
   "outputs": [
    {
     "name": "stdout",
     "output_type": "stream",
     "text": [
      "Cowardly refusing to overwrite an existing entry for /mnt/nvme1n1/jbent/scr4/\n",
      "Cowardly refusing to overwrite an existing entry for /mnt/nvme1n1/jbent/yellprojs/\n",
      "Cowardly refusing to overwrite an existing entry for /mnt/nvme1n1/jbent/ttscratch/\n",
      "Largest file in /mnt/nvme3n1/jbent/yellusers is 17846906880\n",
      "Bucket -1:1 has 503253 files (Bucket 0 / 35)\n",
      "Bucket 1:2 has 18430 files (Bucket 1 / 35)\n",
      "Bucket 2:4 has 13406 files (Bucket 2 / 35)\n",
      "Bucket 4:8 has 130293 files (Bucket 3 / 35)\n",
      "Bucket 8:16 has 138170 files (Bucket 4 / 35)\n",
      "Bucket 16:32 has 344539 files (Bucket 5 / 35)\n",
      "Bucket 32:64 has 443898 files (Bucket 6 / 35)\n",
      "Bucket 64:128 has 390266 files (Bucket 7 / 35)\n",
      "Bucket 128:256 has 681071 files (Bucket 8 / 35)\n",
      "Bucket 256:512 has 994173 files (Bucket 9 / 35)\n",
      "Bucket 512:1024 has 1160034 files (Bucket 10 / 35)\n",
      "Bucket 1024:2048 has 1506747 files (Bucket 11 / 35)\n",
      "Bucket 2048:4096 has 1716278 files (Bucket 12 / 35)\n",
      "Bucket 4096:8192 has 1584484 files (Bucket 13 / 35)\n",
      "Bucket 8192:16384 has 1193313 files (Bucket 14 / 35)\n",
      "Bucket 16384:32768 has 800074 files (Bucket 15 / 35)\n",
      "Bucket 32768:65536 has 623711 files (Bucket 16 / 35)\n",
      "Bucket 65536:131072 has 362157 files (Bucket 17 / 35)\n",
      "Bucket 131072:262144 has 235082 files (Bucket 18 / 35)\n",
      "Bucket 262144:524288 has 156822 files (Bucket 19 / 35)\n",
      "Bucket 524288:1048576 has 105378 files (Bucket 20 / 35)\n",
      "Bucket 1048576:2097152 has 47619 files (Bucket 21 / 35)\n",
      "Bucket 2097152:4194304 has 36939 files (Bucket 22 / 35)\n",
      "Bucket 4194304:8388608 has 18499 files (Bucket 23 / 35)\n",
      "Bucket 8388608:16777216 has 11291 files (Bucket 24 / 35)\n",
      "Bucket 16777216:33554432 has 5838 files (Bucket 25 / 35)\n",
      "Bucket 33554432:67108864 has 4160 files (Bucket 26 / 35)\n",
      "Bucket 67108864:134217728 has 1909 files (Bucket 27 / 35)\n",
      "Bucket 134217728:268435456 has 734 files (Bucket 28 / 35)\n",
      "Bucket 268435456:536870912 has 388 files (Bucket 29 / 35)\n",
      "Bucket 536870912:1073741824 has 189 files (Bucket 30 / 35)\n",
      "Bucket 1073741824:2147483648 has 65 files (Bucket 31 / 35)\n",
      "Bucket 2147483648:4294967296 has 19 files (Bucket 32 / 35)\n",
      "Bucket 4294967296:8589934592 has 2 files (Bucket 33 / 35)\n",
      "Bucket 8589934592:17179869184 has 4 files (Bucket 34 / 35)\n",
      "Cowardly refusing to overwrite an existing entry for /mnt/nvme1n1/jbent/anony\n"
     ]
    }
   ],
   "source": [
    "#add_dataframe(dataframes, '/mnt/nvme3n1/jbent/jbent_home/', Verbose=True)\n",
    "add_dataframe(dataframes, '/mnt/nvme1n1/jbent/scr4/',      Verbose=True)\n",
    "add_dataframe(dataframes, '/mnt/nvme1n1/jbent/yellprojs/', Verbose=True)\n",
    "add_dataframe(dataframes, '/mnt/nvme1n1/jbent/ttscratch/', Verbose=True)\n",
    "add_dataframe(dataframes, '/mnt/nvme3n1/jbent/yellusers',  Verbose=True)\n",
    "add_dataframe(dataframes, '/mnt/nvme1n1/jbent/anony',      Verbose=True)"
   ]
  },
  {
   "cell_type": "code",
   "execution_count": 39,
   "id": "9cccb553",
   "metadata": {},
   "outputs": [
    {
     "data": {
      "text/plain": [
       "dict_keys(['/mnt/nvme1n1/jbent/anony', '/mnt/nvme1n1/jbent/scr4/', '/mnt/nvme1n1/jbent/yellprojs/', '/mnt/nvme1n1/jbent/ttscratch/'])"
      ]
     },
     "execution_count": 39,
     "metadata": {},
     "output_type": "execute_result"
    }
   ],
   "source": [
    "dataframes.keys()"
   ]
  },
  {
   "cell_type": "code",
   "execution_count": 38,
   "id": "1dd11bd2",
   "metadata": {},
   "outputs": [],
   "source": [
    "del(dataframes['/mnt/nvme3n1/jbent/jbent_home/'])"
   ]
  },
  {
   "cell_type": "code",
   "execution_count": 7,
   "id": "e4492d21",
   "metadata": {},
   "outputs": [],
   "source": [
    "# a function to make nice tic marks on the graph\n",
    "def generate_custom_ticks_labels(max_size):\n",
    "    i = 1  # Start size\n",
    "    factor = 1  # Byte multiplier\n",
    "    label = \"B\"  # Initial label\n",
    "    custom_ticks = []\n",
    "    custom_labels = []\n",
    "\n",
    "    while i <= max_size:\n",
    "        custom_ticks.append(i)\n",
    "        \n",
    "        if i == 1024:\n",
    "            factor = i\n",
    "            label = \"K\"\n",
    "        elif i == 1048576:\n",
    "            factor = i\n",
    "            label = \"M\"  \n",
    "        elif i == 1048576 * 1024:\n",
    "            factor = i\n",
    "            label = \"G\"\n",
    "        elif i == 1048576 * 1048576:\n",
    "            factor = i\n",
    "            label = \"T\"\n",
    "        elif i == 1048576 * 1048576 * 1024:\n",
    "            factor = i\n",
    "            label = \"P\"\n",
    "            \n",
    "        custom_labels.append(f\"{i//factor}{label}\")\n",
    "        i *= 2  # Increase size in powers of 2\n",
    "        \n",
    "    return custom_ticks, custom_labels"
   ]
  },
  {
   "cell_type": "code",
   "execution_count": 4,
   "id": "1aa938f3",
   "metadata": {},
   "outputs": [
    {
     "ename": "NameError",
     "evalue": "name 'dataframes' is not defined",
     "output_type": "error",
     "traceback": [
      "\u001b[0;31m---------------------------------------------------------------------------\u001b[0m",
      "\u001b[0;31mNameError\u001b[0m                                 Traceback (most recent call last)",
      "\u001b[0;32m<ipython-input-4-5e85dfb05ecd>\u001b[0m in \u001b[0;36m<module>\u001b[0;34m\u001b[0m\n\u001b[1;32m      2\u001b[0m \u001b[0;31m# now we want to make a graph of them. First we need to figure out the max value for the x-axis which is determined\u001b[0m\u001b[0;34m\u001b[0m\u001b[0;34m\u001b[0m\u001b[0;34m\u001b[0m\u001b[0m\n\u001b[1;32m      3\u001b[0m \u001b[0;31m# by the largest file stored across all of the filesystems in our dict\u001b[0m\u001b[0;34m\u001b[0m\u001b[0;34m\u001b[0m\u001b[0;34m\u001b[0m\u001b[0m\n\u001b[0;32m----> 4\u001b[0;31m \u001b[0mlargest_file\u001b[0m \u001b[0;34m=\u001b[0m \u001b[0mmax\u001b[0m\u001b[0;34m(\u001b[0m\u001b[0mdataframes\u001b[0m\u001b[0;34m.\u001b[0m\u001b[0mitems\u001b[0m\u001b[0;34m(\u001b[0m\u001b[0;34m)\u001b[0m\u001b[0;34m,\u001b[0m \u001b[0mkey\u001b[0m\u001b[0;34m=\u001b[0m\u001b[0;32mlambda\u001b[0m \u001b[0mx\u001b[0m\u001b[0;34m:\u001b[0m \u001b[0mx\u001b[0m\u001b[0;34m[\u001b[0m\u001b[0;36m1\u001b[0m\u001b[0;34m]\u001b[0m\u001b[0;34m[\u001b[0m\u001b[0;34m'LargestFile'\u001b[0m\u001b[0;34m]\u001b[0m\u001b[0;34m)\u001b[0m\u001b[0;34m[\u001b[0m\u001b[0;36m1\u001b[0m\u001b[0;34m]\u001b[0m\u001b[0;34m[\u001b[0m\u001b[0;34m'LargestFile'\u001b[0m\u001b[0;34m]\u001b[0m\u001b[0;34m\u001b[0m\u001b[0;34m\u001b[0m\u001b[0m\n\u001b[0m\u001b[1;32m      5\u001b[0m \u001b[0mprint\u001b[0m\u001b[0;34m(\u001b[0m\u001b[0mlargest_file\u001b[0m\u001b[0;34m)\u001b[0m\u001b[0;34m\u001b[0m\u001b[0;34m\u001b[0m\u001b[0m\n",
      "\u001b[0;31mNameError\u001b[0m: name 'dataframes' is not defined"
     ]
    }
   ],
   "source": [
    "# so we have multiple dataframes describing file size distros for multiple file systems stored in the dataframes dict\n",
    "# now we want to make a graph of them. First we need to figure out the max value for the x-axis which is determined\n",
    "# by the largest file stored across all of the filesystems in our dict\n",
    "largest_file = max(dataframes.items(), key=lambda x: x[1]['LargestFile'])[1]['LargestFile']\n",
    "print(largest_file)"
   ]
  },
  {
   "cell_type": "code",
   "execution_count": 3,
   "id": "6c328b2b",
   "metadata": {},
   "outputs": [
    {
     "ename": "NameError",
     "evalue": "name 'generate_custom_ticks_labels' is not defined",
     "output_type": "error",
     "traceback": [
      "\u001b[0;31m---------------------------------------------------------------------------\u001b[0m",
      "\u001b[0;31mNameError\u001b[0m                                 Traceback (most recent call last)",
      "\u001b[0;32m<ipython-input-3-5245dff08237>\u001b[0m in \u001b[0;36m<module>\u001b[0;34m\u001b[0m\n\u001b[1;32m      1\u001b[0m \u001b[0mplt\u001b[0m\u001b[0;34m.\u001b[0m\u001b[0mfigure\u001b[0m\u001b[0;34m(\u001b[0m\u001b[0mfigsize\u001b[0m\u001b[0;34m=\u001b[0m\u001b[0;34m(\u001b[0m\u001b[0;36m15\u001b[0m\u001b[0;34m,\u001b[0m \u001b[0;36m8\u001b[0m\u001b[0;34m)\u001b[0m\u001b[0;34m)\u001b[0m\u001b[0;34m\u001b[0m\u001b[0;34m\u001b[0m\u001b[0m\n\u001b[1;32m      2\u001b[0m \u001b[0;34m\u001b[0m\u001b[0m\n\u001b[0;32m----> 3\u001b[0;31m \u001b[0mcustom_ticks\u001b[0m\u001b[0;34m,\u001b[0m \u001b[0mcustom_labels\u001b[0m \u001b[0;34m=\u001b[0m \u001b[0mgenerate_custom_ticks_labels\u001b[0m\u001b[0;34m(\u001b[0m\u001b[0mlargest_file\u001b[0m\u001b[0;34m)\u001b[0m\u001b[0;34m\u001b[0m\u001b[0;34m\u001b[0m\u001b[0m\n\u001b[0m\u001b[1;32m      4\u001b[0m \u001b[0;34m\u001b[0m\u001b[0m\n\u001b[1;32m      5\u001b[0m \u001b[0;31m# Plot the data as a line graph\u001b[0m\u001b[0;34m\u001b[0m\u001b[0;34m\u001b[0m\u001b[0;34m\u001b[0m\u001b[0m\n",
      "\u001b[0;31mNameError\u001b[0m: name 'generate_custom_ticks_labels' is not defined"
     ]
    },
    {
     "data": {
      "text/plain": [
       "<Figure size 1080x576 with 0 Axes>"
      ]
     },
     "metadata": {},
     "output_type": "display_data"
    }
   ],
   "source": [
    "plt.figure(figsize=(15, 8))\n",
    "\n",
    "custom_ticks, custom_labels = generate_custom_ticks_labels(largest_file)\n",
    "\n",
    "# Plot the data as a line graph\n",
    "markers = ['o', 'x', 's', 'D', '^', 'v']\n",
    "for idx, (indexroot, values) in enumerate(dataframes.items()):\n",
    "    df = values['DataFrame']\n",
    "    shortname = indexroot.rstrip('/').split(\"/\")[-1]\n",
    "    plt.plot(df['Upper_Bound'], df['Num_Files'], marker=markers[idx], label=shortname)\n",
    "\n",
    "plt.xscale('log', base=2)\n",
    "\n",
    "# y-tics are ugly, change them to be in values of millions\n",
    "# Get the current axis\n",
    "ax = plt.gca()\n",
    "\n",
    "def millions(x, pos):\n",
    "    return f'{int(x/1e6)}'\n",
    "\n",
    "# Apply custom formatter\n",
    "formatter = FuncFormatter(millions)\n",
    "ax.yaxis.set_major_formatter(formatter)\n",
    "\n",
    "# Add labels and title\n",
    "plt.xlabel('Upper Bound of Bucket Size (Bytes)')\n",
    "plt.ylabel('Millions of Files')\n",
    "plt.title('Distribution of File Sizes')\n",
    "\n",
    "# Add grid and legend\n",
    "plt.grid(True)\n",
    "plt.legend()\n",
    "plt.xticks(custom_ticks, custom_labels, rotation=45)\n",
    "\n",
    "# Show the graph\n",
    "plt.show()\n"
   ]
  }
 ],
 "metadata": {
  "kernelspec": {
   "display_name": "Python 3",
   "language": "python",
   "name": "python3"
  },
  "language_info": {
   "codemirror_mode": {
    "name": "ipython",
    "version": 3
   },
   "file_extension": ".py",
   "mimetype": "text/x-python",
   "name": "python",
   "nbconvert_exporter": "python",
   "pygments_lexer": "ipython3",
   "version": "3.6.8"
  }
 },
 "nbformat": 4,
 "nbformat_minor": 5
}
